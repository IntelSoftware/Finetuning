{
 "cells": [
  {
   "cell_type": "markdown",
   "id": "fee2da00-3004-435e-9dc4-210a159610b2",
   "metadata": {},
   "source": [
    "# Trim images to be same size\n",
    "\n",
    "Necessary to thumbnail down the image becuse the raw or even slightly smaller cropped images cause resnet to have to allocate too much memory ~ 59 GB"
   ]
  },
  {
   "cell_type": "code",
   "execution_count": null,
   "id": "18d92e6c-378e-401d-8cb3-c34a658e02bc",
   "metadata": {},
   "outputs": [],
   "source": [
    "from PIL import Image\n",
    "import os\n",
    "\n",
    "import os \n",
    "os.makedirs('data/cropData/NoFire')\n",
    "os.makedirs('data/cropData/Fire')\n",
    "\n",
    "#Opens the image\n",
    "\n",
    "def cropIm(fldrIn, fn, fldrOut):\n",
    "    path = fldrIn + fn\n",
    "    im = Image.open(path)\n",
    "\n",
    "    #Specifies the corners of the desired image\n",
    "    # left = 95\n",
    "    # top = 98\n",
    "    # right = 3752\n",
    "    # bottom = 2281\n",
    "\n",
    "    left = 150\n",
    "    top = 150\n",
    "    right = 150 + 224*16\n",
    "    bottom = 150 + 224*9\n",
    "\n",
    "    #Crops the image\n",
    "    im = im.crop((left, top, right, bottom))\n",
    "    \n",
    "    # resize - otherwise renet cant allocate enough memory\n",
    "    MAX_SIZE = (1024, 1024)\n",
    "    im.thumbnail(MAX_SIZE)\n",
    "\n",
    "    print(im.size, fn)\n",
    "    #Saves the image\n",
    "    im.save(fldrOut + fn)\n",
    "    im.close()\n",
    "# cropIm(fldrIn, fn, fldrOut)\n",
    "\n",
    "import glob\n",
    "FireList = []\n",
    "NoFireList = []\n",
    "\n",
    "fldrIn = \"data/origData/Fire/\"\n",
    "fldrOut = \"data/cropData/Fire/\"\n",
    "for fire, fn in enumerate(glob.glob(fldrIn+\"*.png\")):\n",
    "    fn_trunc = fn.split('/')[-1]\n",
    "    FireList.append(fn_trunc)\n",
    "    cropIm(fldrIn, fn_trunc, fldrOut)\n",
    "    \n",
    "print('Count fire files', fire)\n",
    "\n",
    "fldrIn = \"data/origData/NoFire/\"\n",
    "fldrOut = \"data/cropData/NoFire/\"\n",
    "for noFire, fn in enumerate(glob.glob(fldrIn+\"*.png\")):\n",
    "    fn_trunc = fn.split('/')[-1]\n",
    "    NoFireList.append(fn_trunc)\n",
    "    cropIm(fldrIn, fn_trunc, fldrOut)\n",
    "print('Count NoFire files', noFire)"
   ]
  },
  {
   "cell_type": "code",
   "execution_count": null,
   "id": "89cfeffb-a3bd-4e0a-8f25-83f787382381",
   "metadata": {},
   "outputs": [],
   "source": []
  },
  {
   "cell_type": "code",
   "execution_count": null,
   "id": "60016822-c6cf-443a-81e1-6e71cbcc0ae5",
   "metadata": {},
   "outputs": [],
   "source": []
  },
  {
   "cell_type": "code",
   "execution_count": null,
   "id": "a02e23be-6ad4-494a-a489-1560930e366e",
   "metadata": {},
   "outputs": [],
   "source": []
  },
  {
   "cell_type": "code",
   "execution_count": null,
   "id": "a831f7a1-609f-4810-be47-cff7c06c1241",
   "metadata": {},
   "outputs": [],
   "source": []
  },
  {
   "cell_type": "code",
   "execution_count": null,
   "id": "a3f81e3b-ac3d-4d0d-a53f-27fb0f28c110",
   "metadata": {},
   "outputs": [],
   "source": []
  },
  {
   "cell_type": "code",
   "execution_count": null,
   "id": "51abd289-4cfa-479e-be86-3fee65e79e19",
   "metadata": {},
   "outputs": [],
   "source": []
  },
  {
   "cell_type": "code",
   "execution_count": null,
   "id": "1468ce17-589d-47ac-9be2-3ab00b50f32d",
   "metadata": {},
   "outputs": [],
   "source": []
  },
  {
   "cell_type": "code",
   "execution_count": null,
   "id": "b79a0843-fb18-4109-80b9-65666e5be48f",
   "metadata": {},
   "outputs": [],
   "source": []
  }
 ],
 "metadata": {
  "kernelspec": {
   "display_name": "Python 3 (Intel® oneAPI 2023.1)",
   "language": "python",
   "name": "c009-intel_distribution_of_python_3_oneapi-beta05-python"
  },
  "language_info": {
   "codemirror_mode": {
    "name": "ipython",
    "version": 3
   },
   "file_extension": ".py",
   "mimetype": "text/x-python",
   "name": "python",
   "nbconvert_exporter": "python",
   "pygments_lexer": "ipython3",
   "version": "3.9.16"
  }
 },
 "nbformat": 4,
 "nbformat_minor": 5
}
